{
  "nbformat": 4,
  "nbformat_minor": 0,
  "metadata": {
    "colab": {
      "provenance": []
    },
    "kernelspec": {
      "name": "python3",
      "display_name": "Python 3"
    },
    "language_info": {
      "name": "python"
    }
  },
  "cells": [
    {
      "cell_type": "code",
      "execution_count": 1,
      "metadata": {
        "colab": {
          "base_uri": "https://localhost:8080/"
        },
        "id": "sZCWGcMFauJj",
        "outputId": "cde84bcf-a18c-49ba-b1fb-feb037bf00d6"
      },
      "outputs": [
        {
          "output_type": "stream",
          "name": "stdout",
          "text": [
            "F-statistic: 12.973226446960796\n",
            "P-value: 0.0004982646284668532\n",
            "Reject the null hypothesis: Variances are not equal.\n"
          ]
        }
      ],
      "source": [
        "import numpy as np\n",
        "from scipy import stats\n",
        "data_location1 = np.random.normal(loc=100, scale=20, size=50)\n",
        "data_location2 = np.random.normal(loc=120, scale=30, size=50)\n",
        "\n",
        "# Perform F-test for equality of variances\n",
        "f_statistic, p_value = stats.f_oneway(data_location1, data_location2)\n",
        "\n",
        "print(f\"F-statistic: {f_statistic}\")\n",
        "print(f\"P-value: {p_value}\")\n",
        "\n",
        "# Decision based on p-value\n",
        "alpha = 0.05  # Significance level\n",
        "if p_value < alpha:\n",
        "    print(\"Reject the null hypothesis: Variances are not equal.\")\n",
        "else:\n",
        "    print(\"Fail to reject the null hypothesis: Variances are equal.\")"
      ]
    }
  ]
}