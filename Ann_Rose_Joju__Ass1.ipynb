{
  "nbformat": 4,
  "nbformat_minor": 0,
  "metadata": {
    "colab": {
      "provenance": []
    },
    "kernelspec": {
      "name": "python3",
      "display_name": "Python 3"
    },
    "language_info": {
      "name": "python"
    }
  },
  "cells": [
    {
      "cell_type": "code",
      "execution_count": 3,
      "metadata": {
        "colab": {
          "base_uri": "https://localhost:8080/"
        },
        "id": "h9f5uBf0ajPG",
        "outputId": "c82b8c15-a839-4e99-a302-38ce67bca4b6"
      },
      "outputs": [
        {
          "output_type": "stream",
          "name": "stdout",
          "text": [
            "Radius of the circle 3\n",
            "Area of Circle 28.285714285714285\n"
          ]
        }
      ],
      "source": [
        "Radius=int(input('Radius of the circle '))\n",
        "Area=(22/7)*(Radius**2)\n",
        "print('Area of Circle',Area)\n",
        "\n",
        "\n"
      ]
    },
    {
      "cell_type": "code",
      "source": [
        "name=input('Enter your name :')\n",
        "rollno=input('Enter your roll number :')\n",
        "mark=input('Enter your mark :')\n",
        "print('Name :',name)\n",
        "print('Roll no :',rollno)\n",
        "print('Mark :',mark)"
      ],
      "metadata": {
        "colab": {
          "base_uri": "https://localhost:8080/"
        },
        "id": "P7MuOvm7dPuc",
        "outputId": "0e308fcd-1171-48e3-8c4b-9e592ffb1194"
      },
      "execution_count": 4,
      "outputs": [
        {
          "output_type": "stream",
          "name": "stdout",
          "text": [
            "Enter your name :Anisha\n",
            "Enter your roll number :21\n",
            "Enter your mark : 78\n",
            "Name : Anisha\n",
            "Roll no : 21\n",
            "Mark :  78\n"
          ]
        }
      ]
    },
    {
      "cell_type": "code",
      "source": [
        "x=[12,3,47,10]\n",
        "largest = max(x)\n",
        "print(f\"{largest} is the largest number.\")"
      ],
      "metadata": {
        "colab": {
          "base_uri": "https://localhost:8080/"
        },
        "id": "1Jk21aP_d9Mf",
        "outputId": "2bd954c3-8f92-4c6f-c3a3-9053de7dd971"
      },
      "execution_count": 6,
      "outputs": [
        {
          "output_type": "stream",
          "name": "stdout",
          "text": [
            "47 is the largest number.\n"
          ]
        }
      ]
    },
    {
      "cell_type": "code",
      "source": [
        "x = 0\n",
        "for i in range(1, 11):\n",
        "    print(f\"Current Number: {i}  Previous Number: {x}  Sum: {i + x}\")\n",
        "    x = i\n",
        ""
      ],
      "metadata": {
        "colab": {
          "base_uri": "https://localhost:8080/"
        },
        "id": "fC9QIF-7f7VX",
        "outputId": "409672dc-88bb-4594-9282-47f353a39c9e"
      },
      "execution_count": 9,
      "outputs": [
        {
          "output_type": "stream",
          "name": "stdout",
          "text": [
            "Current Number: 1  Previous Number: 0  Sum: 1\n",
            "Current Number: 2  Previous Number: 1  Sum: 3\n",
            "Current Number: 3  Previous Number: 2  Sum: 5\n",
            "Current Number: 4  Previous Number: 3  Sum: 7\n",
            "Current Number: 5  Previous Number: 4  Sum: 9\n",
            "Current Number: 6  Previous Number: 5  Sum: 11\n",
            "Current Number: 7  Previous Number: 6  Sum: 13\n",
            "Current Number: 8  Previous Number: 7  Sum: 15\n",
            "Current Number: 9  Previous Number: 8  Sum: 17\n",
            "Current Number: 10  Previous Number: 9  Sum: 19\n"
          ]
        }
      ]
    },
    {
      "cell_type": "code",
      "source": [
        "X=[10,20,33,46,55]\n",
        "for i in X:\n",
        "  if i%5==0:\n",
        "    print(i)\n",
        ""
      ],
      "metadata": {
        "colab": {
          "base_uri": "https://localhost:8080/"
        },
        "id": "ePreymB0gRSe",
        "outputId": "066a1ed6-0159-4ff0-b696-8c790133fe70"
      },
      "execution_count": 10,
      "outputs": [
        {
          "output_type": "stream",
          "name": "stdout",
          "text": [
            "10\n",
            "20\n",
            "55\n"
          ]
        }
      ]
    },
    {
      "cell_type": "code",
      "source": [
        "def is_prime(n):\n",
        "    if n <= 1:\n",
        "        return False\n",
        "    for i in range(2, int(n**0.5) + 1):\n",
        "        if n % i == 0:\n",
        "            return False\n",
        "    return True\n",
        "\n",
        "number = int(input(\"Enter a number: \"))\n",
        "if is_prime(number):\n",
        "    print(f\"{number} is a prime number.\")\n",
        "else:\n",
        "    print(f\"{number} is not a prime number.\")\n",
        ""
      ],
      "metadata": {
        "colab": {
          "base_uri": "https://localhost:8080/"
        },
        "id": "0bNSyUd9gm4-",
        "outputId": "5bb7b418-8aed-4ed8-a389-f051edff91e6"
      },
      "execution_count": 15,
      "outputs": [
        {
          "output_type": "stream",
          "name": "stdout",
          "text": [
            "Enter a number: 3\n",
            "3 is a prime number.\n"
          ]
        }
      ]
    },
    {
      "cell_type": "code",
      "source": [
        "y=[]\n",
        "x=[10,40,30,70]\n",
        "for i in range(len(x)-1,-1,-1):\n",
        "  y.append(x[i])\n",
        "print(y)\n",
        "\n"
      ],
      "metadata": {
        "colab": {
          "base_uri": "https://localhost:8080/"
        },
        "id": "rig-m-YciD9N",
        "outputId": "b98f46f2-e9f5-4378-e6fb-8fd3e36ffbca"
      },
      "execution_count": 16,
      "outputs": [
        {
          "output_type": "stream",
          "name": "stdout",
          "text": [
            "[70, 30, 40, 10]\n"
          ]
        }
      ]
    },
    {
      "cell_type": "code",
      "source": [
        "for i in range(1,5):\n",
        "  print('*'*i)"
      ],
      "metadata": {
        "colab": {
          "base_uri": "https://localhost:8080/"
        },
        "id": "kv-z7memjb5N",
        "outputId": "1547d434-9079-404a-b1f2-ad09762b4dc0"
      },
      "execution_count": 17,
      "outputs": [
        {
          "output_type": "stream",
          "name": "stdout",
          "text": [
            "*\n",
            "**\n",
            "***\n",
            "****\n"
          ]
        }
      ]
    },
    {
      "cell_type": "code",
      "source": [
        "x=[34,12,7]\n",
        "max(x)"
      ],
      "metadata": {
        "colab": {
          "base_uri": "https://localhost:8080/"
        },
        "id": "WWvOr9thjjC6",
        "outputId": "0e082f0b-bbd6-43c4-dc5e-812819132671"
      },
      "execution_count": 18,
      "outputs": [
        {
          "output_type": "execute_result",
          "data": {
            "text/plain": [
              "34"
            ]
          },
          "metadata": {},
          "execution_count": 18
        }
      ]
    },
    {
      "cell_type": "code",
      "source": [
        "for i in range(1,6):\n",
        "  print('*'*i)\n",
        "for i in range(4,0,-1):\n",
        "    print('*'*i)"
      ],
      "metadata": {
        "colab": {
          "base_uri": "https://localhost:8080/"
        },
        "id": "4WiEsKPKjmgN",
        "outputId": "adbc9311-0137-4907-fe94-1ba36bac8bbd"
      },
      "execution_count": 19,
      "outputs": [
        {
          "output_type": "stream",
          "name": "stdout",
          "text": [
            "*\n",
            "**\n",
            "***\n",
            "****\n",
            "*****\n",
            "****\n",
            "***\n",
            "**\n",
            "*\n"
          ]
        }
      ]
    }
  ]
}