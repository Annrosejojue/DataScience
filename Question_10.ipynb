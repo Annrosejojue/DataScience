{
  "nbformat": 4,
  "nbformat_minor": 0,
  "metadata": {
    "colab": {
      "provenance": []
    },
    "kernelspec": {
      "name": "python3",
      "display_name": "Python 3"
    },
    "language_info": {
      "name": "python"
    }
  },
  "cells": [
    {
      "cell_type": "code",
      "execution_count": 1,
      "metadata": {
        "id": "3gNyyx9WjSBn"
      },
      "outputs": [],
      "source": [
        "import numpy as np\n",
        "from scipy.stats import chi2_contingency\n",
        "\n",
        "# Observed frequencies\n",
        "observed = np.array([[10, 9, 6],\n",
        "                     [7, 10, 8]])\n",
        "\n",
        "# Calculate expected frequencies using chi-square test\n",
        "chi2, p, dof, expected = chi2_contingency(observed)\n",
        "\n",
        "# Decision based on p-value and significance level\n",
        "alpha = 0.05\n",
        "if p < alpha:\n",
        "    decision = \"Reject the null hypothesis\"\n",
        "else:\n",
        "    decision = \"Fail to reject the null hypothesis\""
      ]
    },
    {
      "cell_type": "code",
      "source": [
        "print(\"Decision:\", decision)"
      ],
      "metadata": {
        "colab": {
          "base_uri": "https://localhost:8080/"
        },
        "id": "yoCScGl0jY7r",
        "outputId": "0801655e-b250-437d-e6db-9214e00a8030"
      },
      "execution_count": 2,
      "outputs": [
        {
          "output_type": "stream",
          "name": "stdout",
          "text": [
            "Decision: Fail to reject the null hypothesis\n"
          ]
        }
      ]
    }
  ]
}