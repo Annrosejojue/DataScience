{
  "nbformat": 4,
  "nbformat_minor": 0,
  "metadata": {
    "colab": {
      "provenance": []
    },
    "kernelspec": {
      "name": "python3",
      "display_name": "Python 3"
    },
    "language_info": {
      "name": "python"
    }
  },
  "cells": [
    {
      "cell_type": "code",
      "execution_count": 1,
      "metadata": {
        "colab": {
          "base_uri": "https://localhost:8080/"
        },
        "id": "eU3EvZnNgZXu",
        "outputId": "abdf5465-6577-4905-a7cf-410f959c0096"
      },
      "outputs": [
        {
          "output_type": "stream",
          "name": "stdout",
          "text": [
            "Decision: Reject the null hypothesis\n"
          ]
        }
      ],
      "source": [
        "import numpy as np\n",
        "from scipy.stats import t\n",
        "\n",
        "# Group A data\n",
        "mean_A = 130\n",
        "std_dev_A = 10\n",
        "n_A = 30\n",
        "\n",
        "# Group B data\n",
        "mean_B = 140\n",
        "std_dev_B = 12\n",
        "n_B = 25\n",
        "\n",
        "# Degrees of freedom\n",
        "df = n_A + n_B - 2\n",
        "\n",
        "# Calculate pooled standard deviation\n",
        "pooled_std_dev = np.sqrt(((n_A - 1) * std_dev_A ** 2 + (n_B - 1) * std_dev_B ** 2) / df)\n",
        "\n",
        "# Calculate t-score\n",
        "t_score = (mean_A - mean_B) / (pooled_std_dev * np.sqrt(1/n_A + 1/n_B))\n",
        "\n",
        "# Calculate critical t-value at alpha = 0.01 (two-tailed test)\n",
        "alpha = 0.01\n",
        "critical_t_value = t.ppf(1 - alpha/2, df)\n",
        "\n",
        "# Decision based on t-score and critical t-value\n",
        "if np.abs(t_score) > critical_t_value:\n",
        "    decision = \"Reject the null hypothesis\"\n",
        "else:\n",
        "    decision = \"Fail to reject the null hypothesis\"\n",
        "\n",
        "print(\"Decision:\", decision)"
      ]
    }
  ]
}